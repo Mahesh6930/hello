{
 "cells": [
  {
   "cell_type": "markdown",
   "id": "abb4bc4e",
   "metadata": {
    "id": "abb4bc4e"
   },
   "source": [
    "# Assignment 3 - Association Rule Mining"
   ]
  },
  {
   "cell_type": "markdown",
   "id": "69003b08",
   "metadata": {
    "id": "69003b08"
   },
   "source": [
    "## Instructions"
   ]
  },
  {
   "cell_type": "markdown",
   "id": "a63f6c38",
   "metadata": {
    "id": "a63f6c38"
   },
   "source": [
    "For the Third Assignment, we are going to be performing association rule mining with Apriori and FP-Growth algorithm.\n",
    "\n",
    "1. There are set of questions associated with each task for apriori and fp-growth respectively.\n",
    "2. The dataset used for whole assignment is same.\n",
    "3. Each Task is presenting a challenge."
   ]
  },
  {
   "cell_type": "markdown",
   "id": "f93a39b9",
   "metadata": {},
   "source": [
    "#### Mahesh 1002136930\n",
    "\n",
    "#### Vinil 1002072982\n",
    "\n",
    "#### Yesha 1002028522"
   ]
  },
  {
   "cell_type": "markdown",
   "id": "a365b901",
   "metadata": {
    "id": "a365b901"
   },
   "source": [
    "Simply run the blow cell to load the dataset.\n",
    "\n",
    "The dataset has 38765 rows of the purchase orders of people from the grocery stores."
   ]
  },
  {
   "cell_type": "code",
   "execution_count": 1,
   "id": "ff383311",
   "metadata": {
    "colab": {
     "base_uri": "https://localhost:8080/",
     "height": 479
    },
    "id": "ff383311",
    "outputId": "e3be4a5f-1045-4525-c778-634d578d15a6"
   },
   "outputs": [
    {
     "data": {
      "text/html": [
       "<div>\n",
       "<style scoped>\n",
       "    .dataframe tbody tr th:only-of-type {\n",
       "        vertical-align: middle;\n",
       "    }\n",
       "\n",
       "    .dataframe tbody tr th {\n",
       "        vertical-align: top;\n",
       "    }\n",
       "\n",
       "    .dataframe thead th {\n",
       "        text-align: right;\n",
       "    }\n",
       "</style>\n",
       "<table border=\"1\" class=\"dataframe\">\n",
       "  <thead>\n",
       "    <tr style=\"text-align: right;\">\n",
       "      <th></th>\n",
       "      <th>Member_number</th>\n",
       "      <th>Date</th>\n",
       "      <th>itemDescription</th>\n",
       "    </tr>\n",
       "  </thead>\n",
       "  <tbody>\n",
       "    <tr>\n",
       "      <th>0</th>\n",
       "      <td>1808</td>\n",
       "      <td>21-07-2015</td>\n",
       "      <td>tropical fruit</td>\n",
       "    </tr>\n",
       "    <tr>\n",
       "      <th>1</th>\n",
       "      <td>2552</td>\n",
       "      <td>05-01-2015</td>\n",
       "      <td>whole milk</td>\n",
       "    </tr>\n",
       "    <tr>\n",
       "      <th>2</th>\n",
       "      <td>2300</td>\n",
       "      <td>19-09-2015</td>\n",
       "      <td>pip fruit</td>\n",
       "    </tr>\n",
       "    <tr>\n",
       "      <th>3</th>\n",
       "      <td>1187</td>\n",
       "      <td>12-12-2015</td>\n",
       "      <td>other vegetables</td>\n",
       "    </tr>\n",
       "    <tr>\n",
       "      <th>4</th>\n",
       "      <td>3037</td>\n",
       "      <td>01-02-2015</td>\n",
       "      <td>whole milk</td>\n",
       "    </tr>\n",
       "    <tr>\n",
       "      <th>...</th>\n",
       "      <td>...</td>\n",
       "      <td>...</td>\n",
       "      <td>...</td>\n",
       "    </tr>\n",
       "    <tr>\n",
       "      <th>38760</th>\n",
       "      <td>4471</td>\n",
       "      <td>08-10-2014</td>\n",
       "      <td>sliced cheese</td>\n",
       "    </tr>\n",
       "    <tr>\n",
       "      <th>38761</th>\n",
       "      <td>2022</td>\n",
       "      <td>23-02-2014</td>\n",
       "      <td>candy</td>\n",
       "    </tr>\n",
       "    <tr>\n",
       "      <th>38762</th>\n",
       "      <td>1097</td>\n",
       "      <td>16-04-2014</td>\n",
       "      <td>cake bar</td>\n",
       "    </tr>\n",
       "    <tr>\n",
       "      <th>38763</th>\n",
       "      <td>1510</td>\n",
       "      <td>03-12-2014</td>\n",
       "      <td>fruit/vegetable juice</td>\n",
       "    </tr>\n",
       "    <tr>\n",
       "      <th>38764</th>\n",
       "      <td>1521</td>\n",
       "      <td>26-12-2014</td>\n",
       "      <td>cat food</td>\n",
       "    </tr>\n",
       "  </tbody>\n",
       "</table>\n",
       "<p>38765 rows × 3 columns</p>\n",
       "</div>"
      ],
      "text/plain": [
       "       Member_number        Date        itemDescription\n",
       "0               1808  21-07-2015         tropical fruit\n",
       "1               2552  05-01-2015             whole milk\n",
       "2               2300  19-09-2015              pip fruit\n",
       "3               1187  12-12-2015       other vegetables\n",
       "4               3037  01-02-2015             whole milk\n",
       "...              ...         ...                    ...\n",
       "38760           4471  08-10-2014          sliced cheese\n",
       "38761           2022  23-02-2014                  candy\n",
       "38762           1097  16-04-2014               cake bar\n",
       "38763           1510  03-12-2014  fruit/vegetable juice\n",
       "38764           1521  26-12-2014               cat food\n",
       "\n",
       "[38765 rows x 3 columns]"
      ]
     },
     "execution_count": 1,
     "metadata": {},
     "output_type": "execute_result"
    }
   ],
   "source": [
    "import pandas as pd\n",
    "from mlxtend.frequent_patterns import apriori\n",
    "from mlxtend.frequent_patterns import fpgrowth, association_rules\n",
    "data = pd.read_csv(\"Data_batch1.csv\")\n",
    "data"
   ]
  },
  {
   "cell_type": "markdown",
   "id": "0091d2ca",
   "metadata": {
    "id": "0091d2ca"
   },
   "source": [
    "### Task A: 5 points\n",
    "\n",
    "1. Print details on data.\n",
    "2. Check unique items and modify items if found any misfit names."
   ]
  },
  {
   "cell_type": "code",
   "execution_count": 2,
   "id": "a5ca1669",
   "metadata": {
    "colab": {
     "base_uri": "https://localhost:8080/"
    },
    "id": "a5ca1669",
    "outputId": "ca9950fa-55cb-46f9-880d-b91de6e1110d",
    "scrolled": true
   },
   "outputs": [
    {
     "name": "stdout",
     "output_type": "stream",
     "text": [
      "       Member_number\n",
      "count   38765.000000\n",
      "mean     3003.641868\n",
      "std      1153.611031\n",
      "min      1000.000000\n",
      "25%      2002.000000\n",
      "50%      3005.000000\n",
      "75%      4007.000000\n",
      "max      5000.000000\n",
      "<class 'pandas.core.frame.DataFrame'>\n",
      "RangeIndex: 38765 entries, 0 to 38764\n",
      "Data columns (total 3 columns):\n",
      " #   Column           Non-Null Count  Dtype \n",
      "---  ------           --------------  ----- \n",
      " 0   Member_number    38765 non-null  int64 \n",
      " 1   Date             38765 non-null  object\n",
      " 2   itemDescription  38765 non-null  object\n",
      "dtypes: int64(1), object(2)\n",
      "memory usage: 908.7+ KB\n",
      "None\n"
     ]
    }
   ],
   "source": [
    "print(data.describe())\n",
    "print(data.info())"
   ]
  },
  {
   "cell_type": "code",
   "execution_count": 3,
   "id": "98b48de6",
   "metadata": {
    "colab": {
     "base_uri": "https://localhost:8080/"
    },
    "id": "98b48de6",
    "outputId": "f96c4c17-5121-4df5-9a2f-d8b1ecccfa2c"
   },
   "outputs": [
    {
     "name": "stdout",
     "output_type": "stream",
     "text": [
      "['tropical fruit' 'whole milk' 'pip fruit' 'other vegetables' 'rolls/buns'\n",
      " 'pot plants' 'citrus fruit' 'beef' 'frankfurter' 'chicken' 'butter'\n",
      " 'fruit/vegetable juice' 'packaged fruit/vegetables' 'chocolate'\n",
      " 'specialty bar' 'butter milk' 'bottled water' 'yogurt' 'sausage'\n",
      " 'brown bread' 'hamburger meat' 'root vegetables' 'pork' 'pastry'\n",
      " 'canned beer' 'berries' 'coffee' 'misc. beverages' 'ham' 'turkey'\n",
      " 'curd cheese' 'red/blush wine' 'frozen potato products' 'flour' 'sugar'\n",
      " 'frozen meals' 'herbs' 'soda' 'detergent' 'grapes' 'processed cheese'\n",
      " 'fish' 'sparkling wine' 'newspapers' 'curd' 'pasta' 'popcorn'\n",
      " 'finished products' 'beverages' 'bottled beer' 'dessert' 'dog food'\n",
      " 'specialty chocolate' 'condensed milk' 'cleaner' 'white wine' 'meat'\n",
      " 'ice cream' 'hard cheese' 'cream cheese ' 'liquor' 'pickled vegetables'\n",
      " 'liquor (appetizer)' 'UHT-milk' 'candy' 'onions' 'hair spray'\n",
      " 'photo/film' 'domestic eggs' 'margarine' 'shopping bags' 'salt' 'oil'\n",
      " 'whipped/sour cream' 'frozen vegetables' 'sliced cheese' 'dish cleaner'\n",
      " 'baking powder' 'specialty cheese' 'salty snack' 'Instant food products'\n",
      " 'pet care' 'white bread' 'female sanitary products' 'cling film/bags'\n",
      " 'soap' 'frozen chicken' 'house keeping products' 'spread cheese'\n",
      " 'decalcifier' 'frozen dessert' 'vinegar' 'nuts/prunes' 'potato products'\n",
      " 'frozen fish' 'hygiene articles' 'artif. sweetener' 'light bulbs'\n",
      " 'canned vegetables' 'chewing gum' 'canned fish' 'cookware'\n",
      " 'semi-finished bread' 'cat food' 'bathroom cleaner' 'prosecco'\n",
      " 'liver loaf' 'zwieback' 'canned fruit' 'frozen fruits' 'brandy'\n",
      " 'baby cosmetics' 'spices' 'napkins' 'waffles' 'sauces' 'rum'\n",
      " 'chocolate marshmallow' 'long life bakery product' 'bags' 'sweet spreads'\n",
      " 'soups' 'mustard' 'specialty fat' 'instant coffee' 'snack products'\n",
      " 'organic sausage' 'soft cheese' 'mayonnaise' 'dental care'\n",
      " 'roll products ' 'kitchen towels' 'flower soil/fertilizer' 'cereals'\n",
      " 'meat spreads' 'dishes' 'male cosmetics' 'candles' 'whisky' 'tidbits'\n",
      " 'cooking chocolate' 'seasonal products' 'liqueur' 'abrasive cleaner'\n",
      " 'syrup' 'ketchup' 'cream' 'skin care' 'rubbing alcohol' 'nut snack'\n",
      " 'cocoa drinks' 'softener' 'organic products' 'cake bar' 'honey' 'jam'\n",
      " 'kitchen utensil' 'flower (seeds)' 'rice' 'tea' 'salad dressing'\n",
      " 'specialty vegetables' 'pudding powder' 'ready soups' 'make up remover'\n",
      " 'toilet cleaner' 'preservation products']\n"
     ]
    }
   ],
   "source": [
    "print(data['itemDescription'].unique())"
   ]
  },
  {
   "cell_type": "markdown",
   "id": "962c1986",
   "metadata": {},
   "source": [
    "In this first task, we print the details of the data and then check the unique items and to see if there are any misfit names. There were no misfit names in the given data so no changes were made."
   ]
  },
  {
   "cell_type": "markdown",
   "id": "052be437",
   "metadata": {
    "id": "052be437"
   },
   "source": [
    "### Task B: 7 points\n",
    "\n",
    "Create a list of lists with grouping on member number and the transaction date and store it in a dataframe"
   ]
  },
  {
   "cell_type": "code",
   "execution_count": 4,
   "id": "c81345ec",
   "metadata": {
    "colab": {
     "base_uri": "https://localhost:8080/"
    },
    "id": "c81345ec",
    "outputId": "cb23d6f8-1f70-4e68-d152-45bd73faa8eb"
   },
   "outputs": [
    {
     "name": "stdout",
     "output_type": "stream",
     "text": [
      "       Member_number        Date  \\\n",
      "0               1000  15-03-2015   \n",
      "1               1000  24-06-2014   \n",
      "2               1000  24-07-2015   \n",
      "3               1000  25-11-2015   \n",
      "4               1000  27-05-2015   \n",
      "...              ...         ...   \n",
      "14958           4999  24-01-2015   \n",
      "14959           4999  26-12-2015   \n",
      "14960           5000  09-03-2014   \n",
      "14961           5000  10-02-2015   \n",
      "14962           5000  16-11-2014   \n",
      "\n",
      "                                         itemDescription  \n",
      "0      [sausage, whole milk, semi-finished bread, yog...  \n",
      "1                      [whole milk, pastry, salty snack]  \n",
      "2                         [canned beer, misc. beverages]  \n",
      "3                            [sausage, hygiene articles]  \n",
      "4                             [soda, pickled vegetables]  \n",
      "...                                                  ...  \n",
      "14958  [tropical fruit, berries, other vegetables, yo...  \n",
      "14959                             [bottled water, herbs]  \n",
      "14960                    [fruit/vegetable juice, onions]  \n",
      "14961       [soda, root vegetables, semi-finished bread]  \n",
      "14962                   [bottled beer, other vegetables]  \n",
      "\n",
      "[14963 rows x 3 columns]\n"
     ]
    }
   ],
   "source": [
    "grouped_data = data.groupby(['Member_number', 'Date'])['itemDescription'].apply(list)\n",
    "grouped_data = grouped_data.reset_index()\n",
    "print(grouped_data)"
   ]
  },
  {
   "cell_type": "markdown",
   "id": "fd15073c",
   "metadata": {},
   "source": [
    "First we group the data by 'member_number' and 'Date' columns. Then we select the item description column and apply the 'list' function to each group. the result would be a new series where each element is a list of item description values  corrsponding to each unique combination of 'member_number' and 'Date'. after these operations the resulting series has multiindex.now we reset the index of the series and convert it back to a dataframe. finally we print the dataframe."
   ]
  },
  {
   "cell_type": "markdown",
   "id": "4ea40165",
   "metadata": {
    "id": "4ea40165"
   },
   "source": [
    "### Task C: 7 points\n",
    "\n",
    "Transform the data having unique product as column name and indication of the product in the each transaction as 0/1."
   ]
  },
  {
   "cell_type": "code",
   "execution_count": 5,
   "id": "21c55d07",
   "metadata": {
    "colab": {
     "base_uri": "https://localhost:8080/"
    },
    "id": "21c55d07",
    "outputId": "1e7b7d8d-a93a-410a-c9a4-3f7b6b8e02bd"
   },
   "outputs": [
    {
     "name": "stdout",
     "output_type": "stream",
     "text": [
      "       Member_number       Date  Instant food products  UHT-milk  \\\n",
      "0               1000 2014-06-24                      0         0   \n",
      "1               1000 2015-03-15                      0         0   \n",
      "2               1000 2015-05-27                      0         0   \n",
      "3               1000 2015-07-24                      0         0   \n",
      "4               1000 2015-11-25                      0         0   \n",
      "...              ...        ...                    ...       ...   \n",
      "14958           4999 2015-05-16                      0         0   \n",
      "14959           4999 2015-12-26                      0         0   \n",
      "14960           5000 2014-09-03                      0         0   \n",
      "14961           5000 2014-11-16                      0         0   \n",
      "14962           5000 2015-10-02                      0         0   \n",
      "\n",
      "       abrasive cleaner  artif. sweetener  baby cosmetics  bags  \\\n",
      "0                     0                 0               0     0   \n",
      "1                     0                 0               0     0   \n",
      "2                     0                 0               0     0   \n",
      "3                     0                 0               0     0   \n",
      "4                     0                 0               0     0   \n",
      "...                 ...               ...             ...   ...   \n",
      "14958                 0                 0               0     0   \n",
      "14959                 0                 0               0     0   \n",
      "14960                 0                 0               0     0   \n",
      "14961                 0                 0               0     0   \n",
      "14962                 0                 0               0     0   \n",
      "\n",
      "       baking powder  bathroom cleaner  ...  turkey  vinegar  waffles  \\\n",
      "0                  0                 0  ...       0        0        0   \n",
      "1                  0                 0  ...       0        0        0   \n",
      "2                  0                 0  ...       0        0        0   \n",
      "3                  0                 0  ...       0        0        0   \n",
      "4                  0                 0  ...       0        0        0   \n",
      "...              ...               ...  ...     ...      ...      ...   \n",
      "14958              0                 0  ...       0        0        0   \n",
      "14959              0                 0  ...       0        0        0   \n",
      "14960              0                 0  ...       0        0        0   \n",
      "14961              0                 0  ...       0        0        0   \n",
      "14962              0                 0  ...       0        0        0   \n",
      "\n",
      "       whipped/sour cream  whisky  white bread  white wine  whole milk  \\\n",
      "0                       0       0            0           0           1   \n",
      "1                       0       0            0           0           1   \n",
      "2                       0       0            0           0           0   \n",
      "3                       0       0            0           0           0   \n",
      "4                       0       0            0           0           0   \n",
      "...                   ...     ...          ...         ...         ...   \n",
      "14958                   1       0            0           0           0   \n",
      "14959                   0       0            0           0           0   \n",
      "14960                   0       0            0           0           0   \n",
      "14961                   0       0            0           0           0   \n",
      "14962                   0       0            0           0           0   \n",
      "\n",
      "       yogurt  zwieback  \n",
      "0           0         0  \n",
      "1           1         0  \n",
      "2           0         0  \n",
      "3           0         0  \n",
      "4           0         0  \n",
      "...       ...       ...  \n",
      "14958       0         0  \n",
      "14959       0         0  \n",
      "14960       0         0  \n",
      "14961       0         0  \n",
      "14962       0         0  \n",
      "\n",
      "[14963 rows x 169 columns]\n"
     ]
    },
    {
     "name": "stderr",
     "output_type": "stream",
     "text": [
      "C:\\Users\\Vinil Reddy\\AppData\\Local\\Temp\\ipykernel_21308\\1411628554.py:1: UserWarning: Parsing dates in DD/MM/YYYY format when dayfirst=False (the default) was specified. This may lead to inconsistently parsed dates! Specify a format to ensure consistent parsing.\n",
      "  data['Date'] = pd.to_datetime(data['Date'])\n"
     ]
    }
   ],
   "source": [
    "data['Date'] = pd.to_datetime(data['Date'])\n",
    "encoded_data = pd.get_dummies(data, columns=['itemDescription'], prefix='', prefix_sep='')\n",
    "encoded_data = encoded_data.groupby(['Member_number', 'Date']).max().reset_index()\n",
    "encoded_data = encoded_data.fillna(0)\n",
    "print(encoded_data)"
   ]
  },
  {
   "cell_type": "markdown",
   "id": "d7b85843",
   "metadata": {},
   "source": [
    "First we convert the date column in the data to a datetime format which is useful for performing various operations. \n",
    "Then we use one-hot encoding to convert categorical variables into binary format. get_dummies will create a new binary column for each unique product name. Each row has 1 if the item is preseent and 0 if its not.\n",
    "one hot encoding creates multiple rows rows for the same membernumber and date columns, so the code groups the data by 'member_number' and 'Date' columns. then it comines the binary values for each product into a single row using the max function.\n",
    "the grouping operation might result in missing values if there are no occurences for a particular product so we fill the missing values with 0 using fillna.\n",
    "finally we print the dataframe."
   ]
  },
  {
   "cell_type": "markdown",
   "id": "e647cfa6",
   "metadata": {
    "id": "e647cfa6"
   },
   "source": [
    "### Task D: 7 points\n",
    "\n",
    "Apply apriori algorithm with 0.001 support"
   ]
  },
  {
   "cell_type": "code",
   "execution_count": 6,
   "id": "a1a5c42e",
   "metadata": {
    "colab": {
     "base_uri": "https://localhost:8080/"
    },
    "id": "a1a5c42e",
    "outputId": "fd6fb8e4-f206-4e72-fca0-395e4c3fa401"
   },
   "outputs": [
    {
     "name": "stderr",
     "output_type": "stream",
     "text": [
      "C:\\PythonProgramming\\Lib\\site-packages\\mlxtend\\frequent_patterns\\fpcommon.py:110: DeprecationWarning: DataFrames with non-bool types result in worse computationalperformance and their support might be discontinued in the future.Please use a DataFrame with bool type\n",
      "  warnings.warn(\n"
     ]
    },
    {
     "name": "stdout",
     "output_type": "stream",
     "text": [
      "Frequent Itemsets:\n",
      "      support                           itemsets\n",
      "0    0.004010            (Instant food products)\n",
      "1    0.021386                         (UHT-milk)\n",
      "2    0.001470                 (abrasive cleaner)\n",
      "3    0.001938                 (artif. sweetener)\n",
      "4    0.008087                    (baking powder)\n",
      "..        ...                                ...\n",
      "745  0.001136  (rolls/buns, whole milk, sausage)\n",
      "746  0.001002     (soda, rolls/buns, whole milk)\n",
      "747  0.001337   (rolls/buns, whole milk, yogurt)\n",
      "748  0.001069        (soda, whole milk, sausage)\n",
      "749  0.001470      (whole milk, yogurt, sausage)\n",
      "\n",
      "[750 rows x 2 columns]\n",
      "\n",
      "Association Rules:\n",
      "Empty DataFrame\n",
      "Columns: [antecedents, consequents, antecedent support, consequent support, support, confidence, lift, leverage, conviction, zhangs_metric]\n",
      "Index: []\n"
     ]
    }
   ],
   "source": [
    "frequent_itemsets = apriori(encoded_data.drop(['Member_number', 'Date'], axis=1), min_support=0.001, use_colnames=True)\n",
    "rules = association_rules(frequent_itemsets, metric=\"confidence\", min_threshold=0.7)\n",
    "\n",
    "print(\"Frequent Itemsets:\")\n",
    "print(frequent_itemsets)\n",
    "print(\"\\nAssociation Rules:\")\n",
    "print(rules)\n"
   ]
  },
  {
   "cell_type": "markdown",
   "id": "39f62824",
   "metadata": {},
   "source": [
    "the aproori algorithm is applied to the encoded_data after dropping the 'member_number' and 'Date' columns.\n",
    "we set the minimum threshold for the itemsets. an itemset is considered frequent if its support is greater than or equal to this threshold. the code uses the original column names in the resulting frequent itemsets.\n",
    "the result of the apriori algorithm is stored in frequent itemsets variable.\n",
    "after finding the frequent itemsets the code generates association rules."
   ]
  },
  {
   "cell_type": "markdown",
   "id": "27002f88",
   "metadata": {
    "id": "27002f88"
   },
   "source": [
    "### Task E: 5 points\n",
    "\n",
    "Print top 5 association rules for lift metric and 1 threshold in accordance with support value."
   ]
  },
  {
   "cell_type": "code",
   "execution_count": 7,
   "id": "aefe6c8b",
   "metadata": {
    "colab": {
     "base_uri": "https://localhost:8080/"
    },
    "id": "aefe6c8b",
    "outputId": "c2ca54c9-60af-44cd-b586-f11e578552fd"
   },
   "outputs": [
    {
     "name": "stdout",
     "output_type": "stream",
     "text": [
      "Top 5 Association Rules based on Lift Metric:\n",
      "               antecedents            consequents  antecedent support  \\\n",
      "239              (sausage)   (whole milk, yogurt)            0.060349   \n",
      "234   (whole milk, yogurt)              (sausage)            0.011161   \n",
      "235  (whole milk, sausage)               (yogurt)            0.008955   \n",
      "238               (yogurt)  (whole milk, sausage)            0.085879   \n",
      "87   (specialty chocolate)         (citrus fruit)            0.015973   \n",
      "\n",
      "     consequent support   support  confidence      lift  leverage  conviction  \\\n",
      "239            0.011161  0.001470    0.024363  2.182917  0.000797    1.013532   \n",
      "234            0.060349  0.001470    0.131737  2.182917  0.000797    1.082219   \n",
      "235            0.085879  0.001470    0.164179  1.911760  0.000701    1.093681   \n",
      "238            0.008955  0.001470    0.017121  1.911760  0.000701    1.008307   \n",
      "87             0.053131  0.001403    0.087866  1.653762  0.000555    1.038081   \n",
      "\n",
      "     zhangs_metric  \n",
      "239       0.576701  \n",
      "234       0.548014  \n",
      "235       0.481231  \n",
      "238       0.521727  \n",
      "87        0.401735  \n"
     ]
    }
   ],
   "source": [
    "rules = association_rules(frequent_itemsets, metric=\"lift\", min_threshold=1.0)\n",
    "\n",
    "# Sort the association rules by lift in descending order\n",
    "sorted_rules = rules.sort_values(by='lift', ascending=False)\n",
    "\n",
    "# Print the top 5 association rules\n",
    "print(\"Top 5 Association Rules based on Lift Metric:\")\n",
    "print(sorted_rules.head(5))"
   ]
  },
  {
   "cell_type": "markdown",
   "id": "9d498184",
   "metadata": {},
   "source": [
    "The result of the association rules function is stored in rules variable. the lift metric was used to evaluate the quality of the association rules. the minimum lift threshold for generating association rules is set to 1.\n",
    "the generated rules are sorted in desending order based on lift metric.\n",
    "then we print the top 5 association rules."
   ]
  },
  {
   "cell_type": "markdown",
   "id": "22be446e",
   "metadata": {
    "id": "22be446e"
   },
   "source": [
    "### Task F: 3 points\n",
    "\n",
    "Store the association rules from top to bottom with respect to lift parameter and store it in a variable."
   ]
  },
  {
   "cell_type": "code",
   "execution_count": 8,
   "id": "f9d4a261",
   "metadata": {
    "colab": {
     "base_uri": "https://localhost:8080/"
    },
    "id": "f9d4a261",
    "outputId": "89f2d10f-3c13-4730-8692-de011ce6df97"
   },
   "outputs": [
    {
     "name": "stdout",
     "output_type": "stream",
     "text": [
      "Top 5 Association Rules based on Lift Metric:\n",
      "               antecedents            consequents  antecedent support  \\\n",
      "239              (sausage)   (whole milk, yogurt)            0.060349   \n",
      "234   (whole milk, yogurt)              (sausage)            0.011161   \n",
      "235  (whole milk, sausage)               (yogurt)            0.008955   \n",
      "238               (yogurt)  (whole milk, sausage)            0.085879   \n",
      "87   (specialty chocolate)         (citrus fruit)            0.015973   \n",
      "\n",
      "     consequent support   support  confidence      lift  leverage  conviction  \\\n",
      "239            0.011161  0.001470    0.024363  2.182917  0.000797    1.013532   \n",
      "234            0.060349  0.001470    0.131737  2.182917  0.000797    1.082219   \n",
      "235            0.085879  0.001470    0.164179  1.911760  0.000701    1.093681   \n",
      "238            0.008955  0.001470    0.017121  1.911760  0.000701    1.008307   \n",
      "87             0.053131  0.001403    0.087866  1.653762  0.000555    1.038081   \n",
      "\n",
      "     zhangs_metric  \n",
      "239       0.576701  \n",
      "234       0.548014  \n",
      "235       0.481231  \n",
      "238       0.521727  \n",
      "87        0.401735  \n"
     ]
    }
   ],
   "source": [
    "# Store the sorted association rules in a variable\n",
    "top_association_rules = sorted_rules.copy()\n",
    "\n",
    "print(\"Top 5 Association Rules based on Lift Metric:\")\n",
    "print(top_association_rules.head(5))"
   ]
  },
  {
   "cell_type": "markdown",
   "id": "7aba0d4b",
   "metadata": {},
   "source": [
    "here we store the association rules from top to bottom in a variable named 'top_association_rules'."
   ]
  },
  {
   "cell_type": "markdown",
   "id": "1e8651b2",
   "metadata": {
    "id": "1e8651b2"
   },
   "source": [
    "### Task G: 10 points\n",
    "\n",
    "Understand this,\n",
    "- antecedent support: If X is called antecendent, 'antecedent support' computes the proportion of transactions that contain the antecedent X.\n",
    "- consequent support: If Y is called consequent, 'consequent support' computes the proportion of transactions that contain the antecedent Y.\n",
    "- support: 'support' computes the proportion of transactions that contain the antecedent X and Y.\n",
    "- confidence: Probability of buying Y when X is bought.\n",
    "- lift: Represents how many times the probability of getting Y increases when X is received.\n",
    "\n",
    "Define a function which takes the (sorted values from the association rules,a product name) and returns top recommendation list for that product name.\n",
    "\n",
    "Tip: the recommendated item are Consequents by matching the product antecedents as product to search for."
   ]
  },
  {
   "cell_type": "code",
   "execution_count": 9,
   "id": "a8072a2a",
   "metadata": {
    "colab": {
     "base_uri": "https://localhost:8080/"
    },
    "id": "a8072a2a",
    "outputId": "b8f60bbf-09c0-4287-8489-dba97317e3d7"
   },
   "outputs": [],
   "source": [
    "def get_top_recommendations_apriori(sorted_rules, product_name, top_n=5, min_support_threshold=0.001):\n",
    "    recommendations = []\n",
    "    matching_consequents = sorted_rules[sorted_rules['antecedents'].apply(lambda x: product_name in x)]\n",
    "    matching_consequents = matching_consequents[matching_consequents['support'] >= min_support_threshold]\n",
    "    matching_consequents = matching_consequents.sort_values(by='lift', ascending=False)\n",
    "    top_recommendations = matching_consequents.head(top_n)\n",
    "\n",
    "    for index, row in top_recommendations.iterrows():\n",
    "        consequent = list(row['consequents'])[0]\n",
    "        lift_value = row['lift']\n",
    "        recommendations.append((consequent, lift_value))\n",
    "\n",
    "    return recommendations\n",
    "\n"
   ]
  },
  {
   "cell_type": "markdown",
   "id": "3f11b2fe",
   "metadata": {},
   "source": [
    "here we define a function get_top_recommendations_apriori which takes sorted values from association rules, a product name and returns rop recommendation list for the specified product name."
   ]
  },
  {
   "cell_type": "markdown",
   "id": "386bdc61",
   "metadata": {
    "id": "386bdc61"
   },
   "source": [
    "### Task H: 5 points\n",
    "\n",
    "Print top 5 reccomendated items for product 'sausage'."
   ]
  },
  {
   "cell_type": "code",
   "execution_count": 10,
   "id": "d03702e4",
   "metadata": {
    "colab": {
     "base_uri": "https://localhost:8080/"
    },
    "id": "d03702e4",
    "outputId": "f0b61c29-37ba-4069-8743-4cd8f9b050ea"
   },
   "outputs": [
    {
     "name": "stdout",
     "output_type": "stream",
     "text": [
      "Top Recommendations for sausage\n",
      "1. Recommended Product: whole milk, Lift: 2.18\n",
      "2. Recommended Product: yogurt, Lift: 1.91\n",
      "3. Recommended Product: whole milk, Lift: 1.62\n",
      "4. Recommended Product: beverages, Lift: 1.54\n",
      "5. Recommended Product: soda, Lift: 1.52\n"
     ]
    }
   ],
   "source": [
    "product_name = 'sausage'\n",
    "top_n = 5\n",
    "recommendations = get_top_recommendations_apriori(sorted_rules, product_name, top_n)\n",
    "print(\"Top Recommendations for\", product_name)\n",
    "for i, (recommended_product, lift) in enumerate(recommendations, 1):\n",
    "    print(f\"{i}. Recommended Product: {recommended_product}, Lift: {lift:.2f}\")"
   ]
  },
  {
   "cell_type": "markdown",
   "id": "418ddfac",
   "metadata": {},
   "source": [
    "we find the top 5 recommended items for the product 'sausage' in this code. the code calls the get_top_recommendations_apriori fucntion with the provided arguments. this function returns the top recommendations for the specified product based on the association rules."
   ]
  },
  {
   "cell_type": "markdown",
   "id": "5fcd63c3",
   "metadata": {
    "id": "5fcd63c3"
   },
   "source": [
    "### Task I: 5 points\n",
    "\n",
    "Print top 5 reccomendated items for product 'sausage' with 0.005 support."
   ]
  },
  {
   "cell_type": "code",
   "execution_count": 11,
   "id": "98ab0731",
   "metadata": {
    "colab": {
     "base_uri": "https://localhost:8080/"
    },
    "id": "98ab0731",
    "outputId": "9c9e531a-3e20-42c3-db13-c5123821878f"
   },
   "outputs": [
    {
     "name": "stdout",
     "output_type": "stream",
     "text": [
      "Top Recommendations for sausage with minimum support of 0.005\n",
      "1. Recommended Product: yogurt, Lift: 1.11\n",
      "2. Recommended Product: soda, Lift: 1.01\n"
     ]
    }
   ],
   "source": [
    "product_name = 'sausage'\n",
    "top_n = 5\n",
    "min_support_threshold = 0.005\n",
    "recommendations = get_top_recommendations_apriori(sorted_rules, product_name, top_n, min_support_threshold)\n",
    "print(\"Top Recommendations for\", product_name, \"with minimum support of\", min_support_threshold)\n",
    "for i, (recommended_product, lift) in enumerate(recommendations, 1):\n",
    "    print(f\"{i}. Recommended Product: {recommended_product}, Lift: {lift:.2f}\")"
   ]
  },
  {
   "cell_type": "markdown",
   "id": "986cf03e",
   "metadata": {},
   "source": [
    "In this code we change the minimum support threshold value to 0.005 and repeat the same process. here we only get 2 recommendations because the apriori algorithm based on the the given parameters and data was able to find only 2 frequent itemsets that satisfy the minimum support threshold.  "
   ]
  },
  {
   "cell_type": "markdown",
   "id": "2b6b895d",
   "metadata": {
    "id": "2b6b895d"
   },
   "source": [
    "### Task J: 10 points\n",
    "\n",
    "Perform task D through I except task G using FP-Growth algorithm."
   ]
  },
  {
   "cell_type": "code",
   "execution_count": 12,
   "id": "dc82b3af",
   "metadata": {
    "colab": {
     "base_uri": "https://localhost:8080/"
    },
    "id": "dc82b3af",
    "outputId": "95f7ad26-958b-477d-ccc2-7ce6bfa90942"
   },
   "outputs": [
    {
     "name": "stdout",
     "output_type": "stream",
     "text": [
      "Frequent Itemsets:\n",
      "      support                           itemsets\n",
      "0    0.004010            (Instant food products)\n",
      "1    0.021386                         (UHT-milk)\n",
      "2    0.001470                 (abrasive cleaner)\n",
      "3    0.001938                 (artif. sweetener)\n",
      "4    0.008087                    (baking powder)\n",
      "..        ...                                ...\n",
      "745  0.001136  (rolls/buns, whole milk, sausage)\n",
      "746  0.001002     (soda, rolls/buns, whole milk)\n",
      "747  0.001337   (rolls/buns, whole milk, yogurt)\n",
      "748  0.001069        (soda, whole milk, sausage)\n",
      "749  0.001470      (whole milk, yogurt, sausage)\n",
      "\n",
      "[750 rows x 2 columns]\n",
      "\n",
      "Association Rules:\n",
      "               antecedents            consequents  antecedent support  \\\n",
      "0         (tropical fruit)             (UHT-milk)            0.067767   \n",
      "1               (UHT-milk)       (tropical fruit)            0.021386   \n",
      "2                   (beef)          (brown bread)            0.033950   \n",
      "3            (brown bread)                 (beef)            0.037626   \n",
      "4                   (beef)         (citrus fruit)            0.033950   \n",
      "..                     ...                    ...                 ...   \n",
      "235  (whole milk, sausage)               (yogurt)            0.008955   \n",
      "236      (yogurt, sausage)           (whole milk)            0.005748   \n",
      "237           (whole milk)      (yogurt, sausage)            0.157923   \n",
      "238               (yogurt)  (whole milk, sausage)            0.085879   \n",
      "239              (sausage)   (whole milk, yogurt)            0.060349   \n",
      "\n",
      "     consequent support   support  confidence      lift      leverage  \\\n",
      "0              0.021386  0.001537    0.022682  1.060617  8.785064e-05   \n",
      "1              0.067767  0.001537    0.071875  1.060617  8.785064e-05   \n",
      "2              0.037626  0.001537    0.045276  1.203301  2.597018e-04   \n",
      "3              0.033950  0.001537    0.040853  1.203301  2.597018e-04   \n",
      "4              0.053131  0.001804    0.053150  1.000349  6.297697e-07   \n",
      "..                  ...       ...         ...       ...           ...   \n",
      "235            0.085879  0.001470    0.164179  1.911760  7.012151e-04   \n",
      "236            0.157923  0.001470    0.255814  1.619866  5.626300e-04   \n",
      "237            0.005748  0.001470    0.009310  1.619866  5.626300e-04   \n",
      "238            0.008955  0.001470    0.017121  1.911760  7.012151e-04   \n",
      "239            0.011161  0.001470    0.024363  2.182917  7.967480e-04   \n",
      "\n",
      "     conviction  zhangs_metric  \n",
      "0      1.001326       0.061307  \n",
      "1      1.004426       0.058402  \n",
      "2      1.008012       0.174891  \n",
      "3      1.007196       0.175559  \n",
      "4      1.000020       0.000361  \n",
      "..          ...            ...  \n",
      "235    1.093681       0.481231  \n",
      "236    1.131541       0.384877  \n",
      "237    1.003596       0.454430  \n",
      "238    1.008307       0.521727  \n",
      "239    1.013532       0.576701  \n",
      "\n",
      "[240 rows x 10 columns]\n"
     ]
    },
    {
     "name": "stderr",
     "output_type": "stream",
     "text": [
      "C:\\PythonProgramming\\Lib\\site-packages\\mlxtend\\frequent_patterns\\fpcommon.py:110: DeprecationWarning: DataFrames with non-bool types result in worse computationalperformance and their support might be discontinued in the future.Please use a DataFrame with bool type\n",
      "  warnings.warn(\n"
     ]
    }
   ],
   "source": [
    "frequent_itemsets_fp = fpgrowth(encoded_data.drop(['Member_number', 'Date'], axis=1), min_support=0.001, use_colnames=True)\n",
    "rules_fp = association_rules(frequent_itemsets_fp, metric=\"confidence\", min_threshold=0.7)\n",
    "\n",
    "print(\"Frequent Itemsets:\")\n",
    "print(frequent_itemsets)\n",
    "print(\"\\nAssociation Rules:\")\n",
    "print(rules)"
   ]
  },
  {
   "cell_type": "code",
   "execution_count": 13,
   "id": "c8b37bb7",
   "metadata": {
    "colab": {
     "base_uri": "https://localhost:8080/"
    },
    "id": "c8b37bb7",
    "outputId": "826d9671-c9d0-4c54-a20a-736b55ecac33"
   },
   "outputs": [
    {
     "name": "stdout",
     "output_type": "stream",
     "text": [
      "Top 5 Association Rules based on Lift Metric:\n",
      "               antecedents            consequents  antecedent support  \\\n",
      "239              (sausage)   (whole milk, yogurt)            0.060349   \n",
      "234   (whole milk, yogurt)              (sausage)            0.011161   \n",
      "235  (whole milk, sausage)               (yogurt)            0.008955   \n",
      "238               (yogurt)  (whole milk, sausage)            0.085879   \n",
      "87   (specialty chocolate)         (citrus fruit)            0.015973   \n",
      "\n",
      "     consequent support   support  confidence      lift  leverage  conviction  \\\n",
      "239            0.011161  0.001470    0.024363  2.182917  0.000797    1.013532   \n",
      "234            0.060349  0.001470    0.131737  2.182917  0.000797    1.082219   \n",
      "235            0.085879  0.001470    0.164179  1.911760  0.000701    1.093681   \n",
      "238            0.008955  0.001470    0.017121  1.911760  0.000701    1.008307   \n",
      "87             0.053131  0.001403    0.087866  1.653762  0.000555    1.038081   \n",
      "\n",
      "     zhangs_metric  \n",
      "239       0.576701  \n",
      "234       0.548014  \n",
      "235       0.481231  \n",
      "238       0.521727  \n",
      "87        0.401735  \n"
     ]
    },
    {
     "name": "stderr",
     "output_type": "stream",
     "text": [
      "C:\\PythonProgramming\\Lib\\site-packages\\mlxtend\\frequent_patterns\\fpcommon.py:110: DeprecationWarning: DataFrames with non-bool types result in worse computationalperformance and their support might be discontinued in the future.Please use a DataFrame with bool type\n",
      "  warnings.warn(\n"
     ]
    }
   ],
   "source": [
    "min_support_threshold = 0.001\n",
    "frequent_itemsets_fp = fpgrowth(encoded_data.drop(['Member_number', 'Date'], axis=1), min_support=0.001, use_colnames=True)\n",
    "rules_fp = association_rules(frequent_itemsets_fp, metric=\"lift\", min_threshold=1.0)\n",
    "\n",
    "# Sort the association rules by lift in descending order\n",
    "sorted_rules = rules.sort_values(by='lift', ascending=False)\n",
    "\n",
    "# Print the top 5 association rules\n",
    "print(\"Top 5 Association Rules based on Lift Metric:\")\n",
    "print(sorted_rules.head(5))\n"
   ]
  },
  {
   "cell_type": "code",
   "execution_count": 14,
   "id": "8164ee33",
   "metadata": {
    "colab": {
     "base_uri": "https://localhost:8080/"
    },
    "id": "8164ee33",
    "outputId": "e0594a80-4877-494d-bb17-bf4133a5d5bc"
   },
   "outputs": [
    {
     "name": "stdout",
     "output_type": "stream",
     "text": [
      "Top 5 Association Rules based on Lift Metric:\n",
      "               antecedents            consequents  antecedent support  \\\n",
      "239              (sausage)   (whole milk, yogurt)            0.060349   \n",
      "234   (whole milk, yogurt)              (sausage)            0.011161   \n",
      "235  (whole milk, sausage)               (yogurt)            0.008955   \n",
      "238               (yogurt)  (whole milk, sausage)            0.085879   \n",
      "87   (specialty chocolate)         (citrus fruit)            0.015973   \n",
      "\n",
      "     consequent support   support  confidence      lift  leverage  conviction  \\\n",
      "239            0.011161  0.001470    0.024363  2.182917  0.000797    1.013532   \n",
      "234            0.060349  0.001470    0.131737  2.182917  0.000797    1.082219   \n",
      "235            0.085879  0.001470    0.164179  1.911760  0.000701    1.093681   \n",
      "238            0.008955  0.001470    0.017121  1.911760  0.000701    1.008307   \n",
      "87             0.053131  0.001403    0.087866  1.653762  0.000555    1.038081   \n",
      "\n",
      "     zhangs_metric  \n",
      "239       0.576701  \n",
      "234       0.548014  \n",
      "235       0.481231  \n",
      "238       0.521727  \n",
      "87        0.401735  \n"
     ]
    },
    {
     "name": "stderr",
     "output_type": "stream",
     "text": [
      "C:\\PythonProgramming\\Lib\\site-packages\\mlxtend\\frequent_patterns\\fpcommon.py:110: DeprecationWarning: DataFrames with non-bool types result in worse computationalperformance and their support might be discontinued in the future.Please use a DataFrame with bool type\n",
      "  warnings.warn(\n"
     ]
    }
   ],
   "source": [
    "min_support_threshold = 0.001\n",
    "frequent_itemsets_fp = fpgrowth(encoded_data.drop(['Member_number', 'Date'], axis=1), min_support=0.001, use_colnames=True)\n",
    "rules_fp = association_rules(frequent_itemsets_fp, metric=\"lift\", min_threshold=1.0)\n",
    "\n",
    "# Sort the association rules by lift in descending order\n",
    "sorted_rules = rules.sort_values(by='lift', ascending=False)\n",
    "\n",
    "# Store the sorted association rules in a variable\n",
    "top_association_rules = sorted_rules.copy()\n",
    "\n",
    "print(\"Top 5 Association Rules based on Lift Metric:\")\n",
    "print(top_association_rules.head(5))"
   ]
  },
  {
   "cell_type": "code",
   "execution_count": 15,
   "id": "1a3146eb",
   "metadata": {
    "colab": {
     "base_uri": "https://localhost:8080/"
    },
    "id": "1a3146eb",
    "outputId": "d3cf9267-c708-416f-9ae8-13debf0935b8"
   },
   "outputs": [
    {
     "name": "stderr",
     "output_type": "stream",
     "text": [
      "C:\\PythonProgramming\\Lib\\site-packages\\mlxtend\\frequent_patterns\\fpcommon.py:110: DeprecationWarning: DataFrames with non-bool types result in worse computationalperformance and their support might be discontinued in the future.Please use a DataFrame with bool type\n",
      "  warnings.warn(\n"
     ]
    }
   ],
   "source": [
    "frequent_itemsets_fp = fpgrowth(encoded_data.drop(['Member_number', 'Date'], axis=1), min_support=0.001, use_colnames=True)\n",
    "rules_fp = association_rules(frequent_itemsets_fp, metric=\"lift\", min_threshold=1.0)\n",
    "def get_top_recommendations_fpgrowth(sorted_rules, product_name, top_n=5):\n",
    "    recommendations = []\n",
    "    matching_consequents = sorted_rules[sorted_rules['antecedents'].apply(lambda x: product_name in x)]\n",
    "    matching_consequents = matching_consequents.sort_values(by='lift', ascending=False)\n",
    "    top_recommendations = matching_consequents.head(top_n)\n",
    "\n",
    "    for index, row in top_recommendations.iterrows():\n",
    "        consequent = list(row['consequents'])[0]\n",
    "        lift_value = row['lift']\n",
    "        recommendations.append((consequent, lift_value))\n",
    "\n",
    "    return recommendations"
   ]
  },
  {
   "cell_type": "code",
   "execution_count": 16,
   "id": "ETi3bhGVDyoe",
   "metadata": {
    "colab": {
     "base_uri": "https://localhost:8080/"
    },
    "id": "ETi3bhGVDyoe",
    "outputId": "74dce797-c5a3-4f26-8e1c-5ad0e0046331"
   },
   "outputs": [
    {
     "name": "stdout",
     "output_type": "stream",
     "text": [
      "Top 5 Recommendations for sausage\n",
      "1. Recommended Product: whole milk, Lift: 2.18\n",
      "2. Recommended Product: yogurt, Lift: 1.91\n",
      "3. Recommended Product: whole milk, Lift: 1.62\n",
      "4. Recommended Product: beverages, Lift: 1.54\n",
      "5. Recommended Product: soda, Lift: 1.52\n"
     ]
    }
   ],
   "source": [
    "product_name = 'sausage'\n",
    "top_n = 5\n",
    "recommendations = get_top_recommendations_fpgrowth(sorted_rules, product_name, top_n)\n",
    "print(\"Top 5 Recommendations for\", product_name)\n",
    "for i, (recommended_product, lift) in enumerate(recommendations, 1):\n",
    "    print(f\"{i}. Recommended Product: {recommended_product}, Lift: {lift:.2f}\")\n"
   ]
  },
  {
   "cell_type": "code",
   "execution_count": 17,
   "id": "1468a9cb",
   "metadata": {
    "colab": {
     "base_uri": "https://localhost:8080/"
    },
    "id": "1468a9cb",
    "outputId": "769bf0c7-70fe-44af-93c2-2e6e4b8848cf"
   },
   "outputs": [
    {
     "name": "stdout",
     "output_type": "stream",
     "text": [
      "\n",
      "Top 5 Recommendations for sausage with minimum support of 0.005\n",
      "1. Recommended Product: yogurt, Lift: 1.11\n",
      "2. Recommended Product: soda, Lift: 1.01\n"
     ]
    },
    {
     "name": "stderr",
     "output_type": "stream",
     "text": [
      "C:\\PythonProgramming\\Lib\\site-packages\\mlxtend\\frequent_patterns\\fpcommon.py:110: DeprecationWarning: DataFrames with non-bool types result in worse computationalperformance and their support might be discontinued in the future.Please use a DataFrame with bool type\n",
      "  warnings.warn(\n"
     ]
    }
   ],
   "source": [
    "min_support_threshold = 0.005\n",
    "frequent_itemsets_with_threshold = fpgrowth(encoded_data.drop(['Member_number', 'Date'], axis=1), min_support=min_support_threshold, use_colnames=True)\n",
    "rules_with_threshold = association_rules(frequent_itemsets_with_threshold, metric=\"lift\", min_threshold=1.0)\n",
    "sorted_rules_with_threshold = rules_with_threshold.sort_values(by='lift', ascending=False)\n",
    "recommendations_with_threshold = get_top_recommendations_fpgrowth(sorted_rules_with_threshold, product_name, top_n)\n",
    "print(\"\\nTop 5 Recommendations for\", product_name, \"with minimum support of\", min_support_threshold)\n",
    "for i, (recommended_product, lift) in enumerate(recommendations_with_threshold, 1):\n",
    "    print(f\"{i}. Recommended Product: {recommended_product}, Lift: {lift:.2f}\")"
   ]
  },
  {
   "cell_type": "markdown",
   "id": "45aa07bb",
   "metadata": {},
   "source": [
    "We have performed Tasks D to I except G using FP-Growth algorithm."
   ]
  },
  {
   "cell_type": "markdown",
   "id": "5d2e6b33",
   "metadata": {},
   "source": []
  },
  {
   "cell_type": "markdown",
   "id": "ec8ecc04",
   "metadata": {
    "id": "ec8ecc04"
   },
   "source": [
    "### Task K: 8 points\n",
    "\n",
    "Print Top 3 recommendations for below products using Apriori with 0.0015 support\n",
    "- citrus fruit\n",
    "- whole milk\n",
    "- soda"
   ]
  },
  {
   "cell_type": "code",
   "execution_count": 18,
   "id": "d503e536",
   "metadata": {
    "colab": {
     "base_uri": "https://localhost:8080/"
    },
    "id": "d503e536",
    "outputId": "939a3f0b-587c-47b5-b19a-ca722c604daa"
   },
   "outputs": [
    {
     "name": "stdout",
     "output_type": "stream",
     "text": [
      "Top Recommendations for citrus fruit with minimum support of 0.0015\n",
      "1. Recommended Product: frozen vegetables, Lift: 1.08\n",
      "2. Recommended Product: butter, Lift: 1.04\n",
      "3. Recommended Product: yogurt, Lift: 1.01\n",
      "Top Recommendations for whole milk with minimum support of 0.0015\n",
      "1. Recommended Product: semi-finished bread, Lift: 1.11\n",
      "2. Recommended Product: ham, Lift: 1.01\n",
      "Top Recommendations for soda with minimum support of 0.0015\n",
      "1. Recommended Product: oil, Lift: 1.25\n",
      "2. Recommended Product: beverages, Lift: 1.16\n",
      "3. Recommended Product: sausage, Lift: 1.01\n"
     ]
    }
   ],
   "source": [
    "product_name = 'citrus fruit'\n",
    "top_n = 3\n",
    "min_support_threshold = 0.0015\n",
    "recommendations = get_top_recommendations_apriori(sorted_rules, product_name, top_n, min_support_threshold)\n",
    "print(\"Top Recommendations for\", product_name, \"with minimum support of\", min_support_threshold)\n",
    "for i, (recommended_product, lift) in enumerate(recommendations, 1):\n",
    "    print(f\"{i}. Recommended Product: {recommended_product}, Lift: {lift:.2f}\")\n",
    "\n",
    "product_name = 'whole milk'\n",
    "top_n = 3\n",
    "min_support_threshold = 0.0015\n",
    "recommendations = get_top_recommendations_apriori(sorted_rules, product_name, top_n, min_support_threshold)\n",
    "print(\"Top Recommendations for\", product_name, \"with minimum support of\", min_support_threshold)\n",
    "for i, (recommended_product, lift) in enumerate(recommendations, 1):\n",
    "    print(f\"{i}. Recommended Product: {recommended_product}, Lift: {lift:.2f}\")\n",
    "\n",
    "product_name = 'soda'\n",
    "top_n = 3\n",
    "min_support_threshold = 0.0015\n",
    "recommendations = get_top_recommendations_apriori(sorted_rules, product_name, top_n, min_support_threshold)\n",
    "print(\"Top Recommendations for\", product_name, \"with minimum support of\", min_support_threshold)\n",
    "for i, (recommended_product, lift) in enumerate(recommendations, 1):\n",
    "    print(f\"{i}. Recommended Product: {recommended_product}, Lift: {lift:.2f}\")"
   ]
  },
  {
   "cell_type": "markdown",
   "id": "b9c55b18",
   "metadata": {},
   "source": [
    "We are using the Apriori algorithm to generate top product recommendations based on association rules. We have first set a product name ('citrus fruit') and specified the number of top recommendations (3) and a minimum support threshold (0.0015). Then, we have called the function get_top_recommendations_apriori() to find related products with significant associations. It prints the top 3 recommendations and their lift values for 'citrus fruit', 'whole milk', and 'soda'. The process is repeated for each product, providing insights into products commonly purchased together."
   ]
  },
  {
   "cell_type": "markdown",
   "id": "644e059c",
   "metadata": {},
   "source": []
  },
  {
   "cell_type": "markdown",
   "id": "3dd3ce9f",
   "metadata": {
    "id": "3dd3ce9f"
   },
   "source": [
    "### Task L: 8 points\n",
    "\n",
    "Print Top 3 recommendations for below products using FP-Growth algorithm with 0.0015 support\n",
    "- canned beer\n",
    "- yogurt\n",
    "- pastry"
   ]
  },
  {
   "cell_type": "code",
   "execution_count": 19,
   "id": "39a1966a",
   "metadata": {
    "colab": {
     "base_uri": "https://localhost:8080/"
    },
    "id": "39a1966a",
    "outputId": "fe71957b-1526-4032-a25e-e80df49fef6c"
   },
   "outputs": [
    {
     "name": "stdout",
     "output_type": "stream",
     "text": [
      "Top 3 Recommendations for canned beer with minimum support of 0.0015\n",
      "No recommendations found.\n",
      "\n",
      "Top 3 Recommendations for yogurt with minimum support of 0.0015\n",
      "1. Recommended Product: sausage, Lift: 1.11\n",
      "\n",
      "Top 3 Recommendations for pastry with minimum support of 0.0015\n",
      "No recommendations found.\n"
     ]
    }
   ],
   "source": [
    "min_support_threshold = 0.0015\n",
    "# Product: 'canned beer'\n",
    "product_name = 'canned beer'\n",
    "top_n = 3\n",
    "recommendations_canned_beer = get_top_recommendations_fpgrowth(rules_with_threshold, product_name, top_n)\n",
    "print(\"Top 3 Recommendations for\", product_name, \"with minimum support of\", min_support_threshold)\n",
    "if recommendations_canned_beer:\n",
    "    for i, (recommended_product, lift) in enumerate(recommendations_canned_beer, 1):\n",
    "        print(f\"{i}. Recommended Product: {recommended_product}, Lift: {lift:.2f}\")\n",
    "else:\n",
    "    print(\"No recommendations found.\")\n",
    "\n",
    "\n",
    "# Product: 'yogurt'\n",
    "product_name = 'yogurt'\n",
    "top_n = 3\n",
    "recommendations_yogurt = get_top_recommendations_fpgrowth(rules_with_threshold, product_name, top_n)\n",
    "print(\"\\nTop 3 Recommendations for\", product_name, \"with minimum support of\", min_support_threshold)\n",
    "if recommendations_yogurt:\n",
    "    for i, (recommended_product, lift) in enumerate(recommendations_yogurt, 1):\n",
    "        print(f\"{i}. Recommended Product: {recommended_product}, Lift: {lift:.2f}\")\n",
    "else:\n",
    "    print(\"No recommendations found.\")\n",
    "\n",
    "# Product: 'pastry'\n",
    "product_name = 'pastry'\n",
    "top_n = 3\n",
    "recommendations_pastry = get_top_recommendations_fpgrowth(rules_with_threshold, product_name, top_n)\n",
    "print(\"\\nTop 3 Recommendations for\", product_name, \"with minimum support of\", min_support_threshold)\n",
    "if recommendations_pastry:\n",
    "    for i, (recommended_product, lift) in enumerate(recommendations_pastry, 1):\n",
    "        print(f\"{i}. Recommended Product: {recommended_product}, Lift: {lift:.2f}\")\n",
    "else:\n",
    "    print(\"No recommendations found.\")"
   ]
  },
  {
   "cell_type": "markdown",
   "id": "9bf3bff6",
   "metadata": {},
   "source": []
  },
  {
   "cell_type": "markdown",
   "id": "1ee818d1",
   "metadata": {},
   "source": [
    "We have used the FP-Growth algorithm to find top 3 product recommendations for three different items: 'canned beer', 'yogurt', and 'pastry'. A minimum support threshold of 0.0015 is set to filter out less significant associations. For each product, it the function get_top_recommendations_fpgrowth() is called to obtain the recommendations. If there are recommendations, it prints the top 3 along with their lift values. If no recommendations are found, it displays \"No recommendations found.\""
   ]
  },
  {
   "cell_type": "markdown",
   "id": "2b8db21a",
   "metadata": {
    "id": "2b8db21a"
   },
   "source": [
    "### Task M: 20 points\n",
    "\n",
    "Submit a document showing your solution for below problem.\n",
    "\n",
    "For the data on apriori image in the folder, apply apriori algorithm by\n",
    "\n",
    "- Computing the support for each individual item\n",
    "- Use 7 as the minimum support.\n",
    "- Generate Association Rules and compute confidence\n",
    "- use min confidence as 85%."
   ]
  },
  {
   "cell_type": "code",
   "execution_count": 20,
   "id": "ddj2gajl3rZD",
   "metadata": {
    "colab": {
     "base_uri": "https://localhost:8080/"
    },
    "id": "ddj2gajl3rZD",
    "outputId": "096b77a0-00d9-4483-b878-221a4d736b25"
   },
   "outputs": [
    {
     "name": "stdout",
     "output_type": "stream",
     "text": [
      "      antecedents consequents  antecedent support  consequent support  \\\n",
      "0  (potato chips)      (beer)                 0.5                0.55   \n",
      "1          (wine)    (cheese)                 0.4                0.40   \n",
      "2        (cheese)      (wine)                 0.4                0.40   \n",
      "\n",
      "   support  confidence      lift  leverage  conviction  zhangs_metric  \n",
      "0     0.45       0.900  1.636364     0.175         4.5       0.777778  \n",
      "1     0.35       0.875  2.187500     0.190         4.8       0.904762  \n",
      "2     0.35       0.875  2.187500     0.190         4.8       0.904762  \n"
     ]
    }
   ],
   "source": [
    "import pandas as pd\n",
    "from mlxtend.preprocessing import TransactionEncoder\n",
    "from mlxtend.frequent_patterns import apriori, association_rules\n",
    "\n",
    "# The data\n",
    "transactions = [['beer', 'wine', 'cheese'],\n",
    "                ['beer', 'potato chips'],\n",
    "                ['eggs', 'flour', 'butter', 'cheese'],\n",
    "                ['eggs', 'flour', 'butter', 'beer', 'potato chips'],\n",
    "                ['wine', 'cheese'],\n",
    "                ['potato chips'],\n",
    "                ['eggs', 'flour', 'butter', 'wine', 'cheese'],\n",
    "                ['eggs', 'flour', 'butter', 'beer', 'potato chips'],\n",
    "                ['wine', 'beer'],\n",
    "                ['beer', 'potato chips'],\n",
    "                ['butter', 'eggs'],\n",
    "                ['beer', 'potato chips'],\n",
    "                ['flour', 'eggs'],\n",
    "                ['beer', 'potato chips'],\n",
    "                ['eggs', 'flour', 'butter', 'wine', 'cheese'],\n",
    "                ['beer', 'wine', 'potato chips', 'cheese'],\n",
    "                ['wine', 'cheese'],\n",
    "                ['beer', 'potato chips'],\n",
    "                ['wine', 'cheese'],\n",
    "                ['beer', 'potato chips']]\n",
    "\n",
    "# Transform the data into the right format\n",
    "te = TransactionEncoder()\n",
    "te_ary = te.fit(transactions).transform(transactions)\n",
    "\n",
    "# Create a new DataFrame\n",
    "df = pd.DataFrame(te_ary, columns=te.columns_)\n",
    "\n",
    "# Apply Apriori algorithm\n",
    "# Note: The support is calculated by individual item frequency divided by total number of transactions.\n",
    "# In this case, min_support=7/20=0.35\n",
    "frequent_itemsets = apriori(df, min_support=0.35, use_colnames=True)\n",
    "\n",
    "# Generate Association Rules\n",
    "rules = association_rules(frequent_itemsets, metric=\"confidence\", min_threshold=0.85)\n",
    "\n",
    "print(rules)\n"
   ]
  },
  {
   "cell_type": "markdown",
   "id": "d880ff96",
   "metadata": {},
   "source": [
    "We have used the Apriori algorithm to a dataset of transactions. We are finding frequently occurring itemsets with a minimum support of 7, representing the number of transactions a set of items must appear in to be considered frequent. After that, it generates association rules with a minimum confidence of 85%, which signifies the strength of item associations."
   ]
  },
  {
   "cell_type": "markdown",
   "id": "bc8c8d9f",
   "metadata": {
    "id": "bc8c8d9f"
   },
   "source": [
    "### Programming Assignment Details\n",
    "\n",
    "1. If using any resource (books, internet), please make sure that you cite it within that cell.\n",
    "2. Do not rename the dataset_files."
   ]
  },
  {
   "cell_type": "markdown",
   "id": "e5ea28bf",
   "metadata": {
    "id": "e5ea28bf"
   },
   "source": [
    "###  Submission details\n",
    "Fill your name and ID in the jupyter notebook for each group member in the following format:\n",
    "\n",
    "1. First Student Name and ID: ABC 1001XXXXXX\n",
    "2. Second Student Name and ID: DEF 1002XXXXXX\n",
    "3. Third Student Name and ID: GHI 1003XXXXXX\n",
    "\n",
    "Name your submission files:\n",
    "\n",
    "yourLastName_Last4digitsofyourID.ipynb\n",
    "\n",
    "EG: abc_1234_def_5678_xyz3819_python.ipynb"
   ]
  },
  {
   "cell_type": "markdown",
   "id": "9ecd9370",
   "metadata": {
    "id": "9ecd9370"
   },
   "source": [
    "### NOTE: Only one team member will submit the file."
   ]
  }
 ],
 "metadata": {
  "colab": {
   "provenance": []
  },
  "kernelspec": {
   "display_name": "Python 3 (ipykernel)",
   "language": "python",
   "name": "python3"
  },
  "language_info": {
   "codemirror_mode": {
    "name": "ipython",
    "version": 3
   },
   "file_extension": ".py",
   "mimetype": "text/x-python",
   "name": "python",
   "nbconvert_exporter": "python",
   "pygments_lexer": "ipython3",
   "version": "3.11.3"
  }
 },
 "nbformat": 4,
 "nbformat_minor": 5
}
